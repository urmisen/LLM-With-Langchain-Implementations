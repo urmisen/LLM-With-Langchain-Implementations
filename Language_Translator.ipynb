{
 "cells": [
  {
   "cell_type": "code",
   "execution_count": 1,
   "metadata": {},
   "outputs": [
    {
     "name": "stdout",
     "output_type": "stream",
     "text": [
      "Defaulting to user installation because normal site-packages is not writeable\n",
      "Requirement already satisfied: openai in /Users/pathaoltd/Library/Python/3.9/lib/python/site-packages (1.70.0)\n",
      "Requirement already satisfied: langchain in /Users/pathaoltd/Library/Python/3.9/lib/python/site-packages (0.3.22)\n",
      "Requirement already satisfied: langchain-community in /Users/pathaoltd/Library/Python/3.9/lib/python/site-packages (0.3.20)\n",
      "Requirement already satisfied: sniffio in /Users/pathaoltd/Library/Python/3.9/lib/python/site-packages (from openai) (1.3.1)\n",
      "Requirement already satisfied: typing-extensions<5,>=4.11 in /Users/pathaoltd/Library/Python/3.9/lib/python/site-packages (from openai) (4.12.2)\n",
      "Requirement already satisfied: distro<2,>=1.7.0 in /Users/pathaoltd/Library/Python/3.9/lib/python/site-packages (from openai) (1.9.0)\n",
      "Requirement already satisfied: pydantic<3,>=1.9.0 in /Users/pathaoltd/Library/Python/3.9/lib/python/site-packages (from openai) (2.11.1)\n",
      "Requirement already satisfied: jiter<1,>=0.4.0 in /Users/pathaoltd/Library/Python/3.9/lib/python/site-packages (from openai) (0.9.0)\n",
      "Requirement already satisfied: httpx<1,>=0.23.0 in /Users/pathaoltd/Library/Python/3.9/lib/python/site-packages (from openai) (0.28.1)\n",
      "Requirement already satisfied: tqdm>4 in /Users/pathaoltd/Library/Python/3.9/lib/python/site-packages (from openai) (4.67.1)\n",
      "Requirement already satisfied: anyio<5,>=3.5.0 in /Users/pathaoltd/Library/Python/3.9/lib/python/site-packages (from openai) (4.9.0)\n",
      "Requirement already satisfied: langchain-core<1.0.0,>=0.3.49 in /Users/pathaoltd/Library/Python/3.9/lib/python/site-packages (from langchain) (0.3.49)\n",
      "Requirement already satisfied: langsmith<0.4,>=0.1.17 in /Users/pathaoltd/Library/Python/3.9/lib/python/site-packages (from langchain) (0.3.22)\n",
      "Requirement already satisfied: async-timeout<5.0.0,>=4.0.0 in /Users/pathaoltd/Library/Python/3.9/lib/python/site-packages (from langchain) (4.0.3)\n",
      "Requirement already satisfied: PyYAML>=5.3 in /Users/pathaoltd/Library/Python/3.9/lib/python/site-packages (from langchain) (6.0.2)\n",
      "Requirement already satisfied: requests<3,>=2 in /Users/pathaoltd/Library/Python/3.9/lib/python/site-packages (from langchain) (2.32.3)\n",
      "Requirement already satisfied: SQLAlchemy<3,>=1.4 in /Users/pathaoltd/Library/Python/3.9/lib/python/site-packages (from langchain) (2.0.40)\n",
      "Requirement already satisfied: langchain-text-splitters<1.0.0,>=0.3.7 in /Users/pathaoltd/Library/Python/3.9/lib/python/site-packages (from langchain) (0.3.7)\n",
      "Requirement already satisfied: httpx-sse<1.0.0,>=0.4.0 in /Users/pathaoltd/Library/Python/3.9/lib/python/site-packages (from langchain-community) (0.4.0)\n",
      "Requirement already satisfied: aiohttp<4.0.0,>=3.8.3 in /Users/pathaoltd/Library/Python/3.9/lib/python/site-packages (from langchain-community) (3.11.16)\n",
      "Requirement already satisfied: pydantic-settings<3.0.0,>=2.4.0 in /Users/pathaoltd/Library/Python/3.9/lib/python/site-packages (from langchain-community) (2.8.1)\n",
      "Requirement already satisfied: dataclasses-json<0.7,>=0.5.7 in /Users/pathaoltd/Library/Python/3.9/lib/python/site-packages (from langchain-community) (0.6.7)\n",
      "Requirement already satisfied: numpy<3,>=1.26.2 in /Users/pathaoltd/Library/Python/3.9/lib/python/site-packages (from langchain-community) (2.0.2)\n",
      "Requirement already satisfied: tenacity!=8.4.0,<10,>=8.1.0 in /Users/pathaoltd/Library/Python/3.9/lib/python/site-packages (from langchain-community) (9.1.2)\n",
      "Requirement already satisfied: propcache>=0.2.0 in /Users/pathaoltd/Library/Python/3.9/lib/python/site-packages (from aiohttp<4.0.0,>=3.8.3->langchain-community) (0.3.1)\n",
      "Requirement already satisfied: aiosignal>=1.1.2 in /Users/pathaoltd/Library/Python/3.9/lib/python/site-packages (from aiohttp<4.0.0,>=3.8.3->langchain-community) (1.3.2)\n",
      "Requirement already satisfied: attrs>=17.3.0 in /Users/pathaoltd/Library/Python/3.9/lib/python/site-packages (from aiohttp<4.0.0,>=3.8.3->langchain-community) (25.3.0)\n",
      "Requirement already satisfied: aiohappyeyeballs>=2.3.0 in /Users/pathaoltd/Library/Python/3.9/lib/python/site-packages (from aiohttp<4.0.0,>=3.8.3->langchain-community) (2.6.1)\n",
      "Requirement already satisfied: frozenlist>=1.1.1 in /Users/pathaoltd/Library/Python/3.9/lib/python/site-packages (from aiohttp<4.0.0,>=3.8.3->langchain-community) (1.5.0)\n",
      "Requirement already satisfied: multidict<7.0,>=4.5 in /Users/pathaoltd/Library/Python/3.9/lib/python/site-packages (from aiohttp<4.0.0,>=3.8.3->langchain-community) (6.3.1)\n",
      "Requirement already satisfied: yarl<2.0,>=1.17.0 in /Users/pathaoltd/Library/Python/3.9/lib/python/site-packages (from aiohttp<4.0.0,>=3.8.3->langchain-community) (1.18.3)\n",
      "Requirement already satisfied: exceptiongroup>=1.0.2 in /Users/pathaoltd/Library/Python/3.9/lib/python/site-packages (from anyio<5,>=3.5.0->openai) (1.2.2)\n",
      "Requirement already satisfied: idna>=2.8 in /Users/pathaoltd/Library/Python/3.9/lib/python/site-packages (from anyio<5,>=3.5.0->openai) (3.10)\n",
      "Requirement already satisfied: marshmallow<4.0.0,>=3.18.0 in /Users/pathaoltd/Library/Python/3.9/lib/python/site-packages (from dataclasses-json<0.7,>=0.5.7->langchain-community) (3.26.1)\n",
      "Requirement already satisfied: typing-inspect<1,>=0.4.0 in /Users/pathaoltd/Library/Python/3.9/lib/python/site-packages (from dataclasses-json<0.7,>=0.5.7->langchain-community) (0.9.0)\n",
      "Requirement already satisfied: certifi in /Users/pathaoltd/Library/Python/3.9/lib/python/site-packages (from httpx<1,>=0.23.0->openai) (2025.1.31)\n",
      "Requirement already satisfied: httpcore==1.* in /Users/pathaoltd/Library/Python/3.9/lib/python/site-packages (from httpx<1,>=0.23.0->openai) (1.0.7)\n",
      "Requirement already satisfied: h11<0.15,>=0.13 in /Users/pathaoltd/Library/Python/3.9/lib/python/site-packages (from httpcore==1.*->httpx<1,>=0.23.0->openai) (0.14.0)\n",
      "Requirement already satisfied: packaging<25,>=23.2 in /Users/pathaoltd/Library/Python/3.9/lib/python/site-packages (from langchain-core<1.0.0,>=0.3.49->langchain) (24.2)\n",
      "Requirement already satisfied: jsonpatch<2.0,>=1.33 in /Users/pathaoltd/Library/Python/3.9/lib/python/site-packages (from langchain-core<1.0.0,>=0.3.49->langchain) (1.33)\n",
      "Requirement already satisfied: jsonpointer>=1.9 in /Users/pathaoltd/Library/Python/3.9/lib/python/site-packages (from jsonpatch<2.0,>=1.33->langchain-core<1.0.0,>=0.3.49->langchain) (3.0.0)\n",
      "Requirement already satisfied: zstandard<0.24.0,>=0.23.0 in /Users/pathaoltd/Library/Python/3.9/lib/python/site-packages (from langsmith<0.4,>=0.1.17->langchain) (0.23.0)\n",
      "Requirement already satisfied: orjson<4.0.0,>=3.9.14 in /Users/pathaoltd/Library/Python/3.9/lib/python/site-packages (from langsmith<0.4,>=0.1.17->langchain) (3.10.16)\n",
      "Requirement already satisfied: requests-toolbelt<2.0.0,>=1.0.0 in /Users/pathaoltd/Library/Python/3.9/lib/python/site-packages (from langsmith<0.4,>=0.1.17->langchain) (1.0.0)\n",
      "Requirement already satisfied: annotated-types>=0.6.0 in /Users/pathaoltd/Library/Python/3.9/lib/python/site-packages (from pydantic<3,>=1.9.0->openai) (0.7.0)\n",
      "Requirement already satisfied: typing-inspection>=0.4.0 in /Users/pathaoltd/Library/Python/3.9/lib/python/site-packages (from pydantic<3,>=1.9.0->openai) (0.4.0)\n",
      "Requirement already satisfied: pydantic-core==2.33.0 in /Users/pathaoltd/Library/Python/3.9/lib/python/site-packages (from pydantic<3,>=1.9.0->openai) (2.33.0)\n",
      "Requirement already satisfied: python-dotenv>=0.21.0 in /Users/pathaoltd/Library/Python/3.9/lib/python/site-packages (from pydantic-settings<3.0.0,>=2.4.0->langchain-community) (1.1.0)\n",
      "Requirement already satisfied: urllib3<3,>=1.21.1 in /Users/pathaoltd/Library/Python/3.9/lib/python/site-packages (from requests<3,>=2->langchain) (2.3.0)\n",
      "Requirement already satisfied: charset-normalizer<4,>=2 in /Users/pathaoltd/Library/Python/3.9/lib/python/site-packages (from requests<3,>=2->langchain) (3.4.1)\n",
      "Requirement already satisfied: mypy-extensions>=0.3.0 in /Users/pathaoltd/Library/Python/3.9/lib/python/site-packages (from typing-inspect<1,>=0.4.0->dataclasses-json<0.7,>=0.5.7->langchain-community) (1.0.0)\n",
      "\u001b[33mWARNING: You are using pip version 21.2.4; however, version 25.0.1 is available.\n",
      "You should consider upgrading via the '/Library/Developer/CommandLineTools/usr/bin/python3 -m pip install --upgrade pip' command.\u001b[0m\n",
      "Note: you may need to restart the kernel to use updated packages.\n"
     ]
    }
   ],
   "source": [
    "pip install openai langchain langchain-community"
   ]
  },
  {
   "cell_type": "code",
   "execution_count": 2,
   "metadata": {},
   "outputs": [],
   "source": [
    "import os\n",
    "from constants import openai_key\n",
    "\n",
    "os.environ[\"OPENAI_API_KEY\"] = openai_key"
   ]
  },
  {
   "cell_type": "code",
   "execution_count": 6,
   "metadata": {},
   "outputs": [],
   "source": [
    "from langchain.llms import OpenAI\n",
    "from langchain.chains import LLMChain\n",
    "\n",
    "llm=OpenAI(temperature=0.7)"
   ]
  },
  {
   "cell_type": "code",
   "execution_count": 4,
   "metadata": {},
   "outputs": [
    {
     "data": {
      "text/plain": [
       "\"In an easy way translate the following sentence 'How are you' into bangla\""
      ]
     },
     "execution_count": 4,
     "metadata": {},
     "output_type": "execute_result"
    }
   ],
   "source": [
    "## Language Translation\n",
    "\n",
    "from langchain import PromptTemplate\n",
    "\n",
    "template='''In an easy way translate the following sentence '{sentence}' into {target_language}'''\n",
    "language_prompt = PromptTemplate(\n",
    "    input_variables=[\"sentence\",'target_language'],\n",
    "    template=template,\n",
    ")\n",
    "language_prompt.format(sentence=\"How are you\",target_language='bangla')"
   ]
  },
  {
   "cell_type": "code",
   "execution_count": null,
   "metadata": {},
   "outputs": [],
   "source": [
    "chain1=LLMChain(llm=llm,prompt=language_prompt)\n",
    "\n",
    "chain1({'sentence':\"Hello How are you\",'target_language':'hindi'})"
   ]
  },
  {
   "cell_type": "code",
   "execution_count": null,
   "metadata": {},
   "outputs": [],
   "source": []
  }
 ],
 "metadata": {
  "kernelspec": {
   "display_name": "Python 3",
   "language": "python",
   "name": "python3"
  },
  "language_info": {
   "codemirror_mode": {
    "name": "ipython",
    "version": 3
   },
   "file_extension": ".py",
   "mimetype": "text/x-python",
   "name": "python",
   "nbconvert_exporter": "python",
   "pygments_lexer": "ipython3",
   "version": "3.9.6"
  }
 },
 "nbformat": 4,
 "nbformat_minor": 2
}

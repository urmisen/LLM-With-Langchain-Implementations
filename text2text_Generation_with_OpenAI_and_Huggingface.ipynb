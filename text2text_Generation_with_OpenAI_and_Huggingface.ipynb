{
 "cells": [
  {
   "cell_type": "code",
   "execution_count": 1,
   "metadata": {},
   "outputs": [
    {
     "name": "stdout",
     "output_type": "stream",
     "text": [
      "Defaulting to user installation because normal site-packages is not writeable\n",
      "Requirement already satisfied: huggingface_hub in /Users/pathaoltd/Library/Python/3.9/lib/python/site-packages (0.30.1)\n",
      "Requirement already satisfied: typing-extensions>=3.7.4.3 in /Users/pathaoltd/Library/Python/3.9/lib/python/site-packages (from huggingface_hub) (4.12.2)\n",
      "Requirement already satisfied: filelock in /Users/pathaoltd/Library/Python/3.9/lib/python/site-packages (from huggingface_hub) (3.18.0)\n",
      "Requirement already satisfied: requests in /Users/pathaoltd/Library/Python/3.9/lib/python/site-packages (from huggingface_hub) (2.32.3)\n",
      "Requirement already satisfied: pyyaml>=5.1 in /Users/pathaoltd/Library/Python/3.9/lib/python/site-packages (from huggingface_hub) (6.0.2)\n",
      "Requirement already satisfied: tqdm>=4.42.1 in /Users/pathaoltd/Library/Python/3.9/lib/python/site-packages (from huggingface_hub) (4.67.1)\n",
      "Requirement already satisfied: packaging>=20.9 in /Users/pathaoltd/Library/Python/3.9/lib/python/site-packages (from huggingface_hub) (24.2)\n",
      "Requirement already satisfied: fsspec>=2023.5.0 in /Users/pathaoltd/Library/Python/3.9/lib/python/site-packages (from huggingface_hub) (2025.3.2)\n",
      "Requirement already satisfied: idna<4,>=2.5 in /Users/pathaoltd/Library/Python/3.9/lib/python/site-packages (from requests->huggingface_hub) (3.10)\n",
      "Requirement already satisfied: urllib3<3,>=1.21.1 in /Users/pathaoltd/Library/Python/3.9/lib/python/site-packages (from requests->huggingface_hub) (2.3.0)\n",
      "Requirement already satisfied: certifi>=2017.4.17 in /Users/pathaoltd/Library/Python/3.9/lib/python/site-packages (from requests->huggingface_hub) (2025.1.31)\n",
      "Requirement already satisfied: charset-normalizer<4,>=2 in /Users/pathaoltd/Library/Python/3.9/lib/python/site-packages (from requests->huggingface_hub) (3.4.1)\n",
      "\u001b[33mWARNING: You are using pip version 21.2.4; however, version 25.0.1 is available.\n",
      "You should consider upgrading via the '/Library/Developer/CommandLineTools/usr/bin/python3 -m pip install --upgrade pip' command.\u001b[0m\n",
      "Note: you may need to restart the kernel to use updated packages.\n"
     ]
    }
   ],
   "source": [
    "pip install huggingface_hub"
   ]
  },
  {
   "cell_type": "markdown",
   "metadata": {},
   "source": [
    "### Using OpenAI"
   ]
  },
  {
   "cell_type": "code",
   "execution_count": 2,
   "metadata": {},
   "outputs": [],
   "source": [
    "import os\n",
    "from constants import openai_key, huggingface_token\n",
    "\n",
    "os.environ[\"OPENAI_API_KEY\"] =  openai_key"
   ]
  },
  {
   "cell_type": "code",
   "execution_count": 3,
   "metadata": {},
   "outputs": [
    {
     "name": "stderr",
     "output_type": "stream",
     "text": [
      "/Users/pathaoltd/Library/Python/3.9/lib/python/site-packages/urllib3/__init__.py:35: NotOpenSSLWarning: urllib3 v2 only supports OpenSSL 1.1.1+, currently the 'ssl' module is compiled with 'LibreSSL 2.8.3'. See: https://github.com/urllib3/urllib3/issues/3020\n",
      "  warnings.warn(\n",
      "/var/folders/gm/bpq98qfx6jv6bqn24xxgjmyh0000gn/T/ipykernel_11921/220147989.py:4: LangChainDeprecationWarning: The class `OpenAI` was deprecated in LangChain 0.0.10 and will be removed in 1.0. An updated version of the class exists in the :class:`~langchain-openai package and should be used instead. To use it run `pip install -U :class:`~langchain-openai` and import as `from :class:`~langchain_openai import OpenAI``.\n",
      "  llm=OpenAI(openai_api_key = os.environ[\"OPENAI_API_KEY\"], temperature=0.7)\n"
     ]
    }
   ],
   "source": [
    "from langchain.llms import OpenAI\n",
    "from langchain.chains import LLMChain\n",
    "\n",
    "llm=OpenAI(openai_api_key = os.environ[\"OPENAI_API_KEY\"], temperature=0.7)"
   ]
  },
  {
   "cell_type": "code",
   "execution_count": null,
   "metadata": {},
   "outputs": [],
   "source": [
    "text = \"Capital of Bangladesh is\"\n",
    "print(llm.predict(text))"
   ]
  },
  {
   "cell_type": "markdown",
   "metadata": {},
   "source": [
    "### Using HuggingFace"
   ]
  },
  {
   "cell_type": "code",
   "execution_count": 15,
   "metadata": {},
   "outputs": [
    {
     "name": "stdout",
     "output_type": "stream",
     "text": [
      "[{'generated_text': 'Dhaka'}]\n"
     ]
    }
   ],
   "source": [
    "import os\n",
    "import requests\n",
    "\n",
    "# Set the Hugging Face API token\n",
    "os.environ[\"HUGGINGFACEHUB_API_TOKEN\"] = huggingface_token\n",
    "\n",
    "# Define the API URL for the model\n",
    "API_URL = \"https://router.huggingface.co/hf-inference/models/google/flan-t5-large\"\n",
    "headers = {\"Authorization\": f\"Bearer {os.getenv('HUGGINGFACEHUB_API_TOKEN')}\"}\n",
    "\n",
    "# Define a function to query the model\n",
    "def query(payload):\n",
    "    response = requests.post(API_URL, headers=headers, json=payload)\n",
    "    return response.json()\n",
    "\n",
    "# Define the input text\n",
    "text = \"Capital of Bangladesh is\"\n",
    "\n",
    "# Query the model and get the output\n",
    "output = query({\n",
    "    \"inputs\": text,\n",
    "})\n",
    "\n",
    "# Print the result\n",
    "print(output)"
   ]
  },
  {
   "cell_type": "code",
   "execution_count": null,
   "metadata": {},
   "outputs": [],
   "source": []
  }
 ],
 "metadata": {
  "kernelspec": {
   "display_name": "Python 3",
   "language": "python",
   "name": "python3"
  },
  "language_info": {
   "codemirror_mode": {
    "name": "ipython",
    "version": 3
   },
   "file_extension": ".py",
   "mimetype": "text/x-python",
   "name": "python",
   "nbconvert_exporter": "python",
   "pygments_lexer": "ipython3",
   "version": "3.9.6"
  }
 },
 "nbformat": 4,
 "nbformat_minor": 2
}
